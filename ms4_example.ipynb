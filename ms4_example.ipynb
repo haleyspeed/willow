{
 "cells": [
  {
   "cell_type": "markdown",
   "metadata": {},
   "source": [
    "# Mountainsort for Leaf Labs Willow System\n",
    "An implementation of MountainSort 4 (Flatiron School) modified specifically for the Willow Ultra-High-Density neural recording system\n",
    "Original file at https://github.com/flatironinstitute/mountainsort_examples/tree/master/jupyter_examples/001_ms4_jupyter_example"
   ]
  },
  {
   "cell_type": "markdown",
   "metadata": {},
   "source": [
    "### User Input\n",
    "- A copy of this file goes into your experiment folder\n",
    "- Make a subfolder called \"dataset\"\n",
    "- Place your raw.mda, geom.csv, and params.json files into the \"dataset\" subfolder"
   ]
  },
  {
   "cell_type": "markdown",
   "metadata": {},
   "source": [
    "### Import Packages "
   ]
  },
  {
   "cell_type": "code",
   "execution_count": 12,
   "metadata": {},
   "outputs": [],
   "source": [
    "# standard imports\n",
    "import os, sys, json\n",
    "import numpy as np\n",
    "from matplotlib import pyplot as plt\n",
    "\n",
    "# mountainlab imports\n",
    "from mountainlab_pytools import mlproc as mlp\n",
    "from mountainlab_pytools import mdaio\n",
    "import spikeforestwidgets as SFW\n",
    "\n",
    "# imports from this repo\n",
    "from sorterfiles.mountainsort4_1_0 import sort_dataset as ms4_sort_dataset # MountainSort spike sorting\n",
    "from sorterfiles.validate_sorting_results import validate_sorting_results # Validation processors\n",
    "from sorterfiles.synthesize_dataset import synthesize_dataset # Synthesize a test dataset\n",
    "\n",
    "def append_to_path(dir0): # A convenience function\n",
    "    if dir0 not in sys.path:\n",
    "        sys.path.append(dir0)"
   ]
  },
  {
   "cell_type": "markdown",
   "metadata": {},
   "source": [
    "### Initialize the pipeline object and job monitor widget"
   ]
  },
  {
   "cell_type": "code",
   "execution_count": 13,
   "metadata": {
    "scrolled": false
   },
   "outputs": [
    {
     "data": {
      "application/vnd.jupyter.widget-view+json": {
       "model_id": "09a71699bdbc45d5ace2232be88d8f60",
       "version_major": 2,
       "version_minor": 0
      },
      "text/plain": [
       "JSProxyWidget(status='Not yet rendered')"
      ]
     },
     "metadata": {},
     "output_type": "display_data"
    }
   ],
   "source": [
    "       \n",
    "Pipeline=mlp.initPipeline()"
   ]
  },
  {
   "cell_type": "markdown",
   "metadata": {},
   "source": []
  },
  {
   "cell_type": "markdown",
   "metadata": {},
   "source": [
    "### Create the synthetic dataset"
   ]
  },
  {
   "cell_type": "code",
   "execution_count": 14,
   "metadata": {},
   "outputs": [],
   "source": [
    "# Make synthetic ephys data and create output directory\n",
    "dsdir=os.getcwd()+'/dataset'\n",
    "#with Pipeline:\n",
    "#    synthesize_dataset(dsdir,M=4,duration=600,average_snr=8)"
   ]
  },
  {
   "cell_type": "code",
   "execution_count": 15,
   "metadata": {},
   "outputs": [],
   "source": [
    "dsdir=os.getcwd()+'/dataset'\n",
    "output_base_dir=os.getcwd()+'/output2'\n",
    "if not os.path.exists(output_base_dir):\n",
    "    os.mkdir(output_base_dir)"
   ]
  },
  {
   "cell_type": "markdown",
   "metadata": {},
   "source": [
    "### Run the spike sorting and comparison with ground truth"
   ]
  },
  {
   "cell_type": "code",
   "execution_count": 16,
   "metadata": {},
   "outputs": [
    {
     "data": {
      "application/vnd.jupyter.widget-view+json": {
       "model_id": "4d6fcbada7334ad0bbd94875af44549d",
       "version_major": 2,
       "version_minor": 0
      },
      "text/plain": [
       "Output()"
      ]
     },
     "metadata": {},
     "output_type": "display_data"
    },
    {
     "data": {
      "application/vdom.v1+json": {
       "attributes": {},
       "children": [
        {
         "attributes": {},
         "children": [
          "[Click to expand] Error running process ms4alg.sort: Process returned with non-zero error code (255)"
         ],
         "tagName": "summary"
        },
        {
         "attributes": {},
         "children": [
          "[ Getting processor spec... ]\n[ Checking inputs and substituting prvs ... ]\n[ Computing process signature ... ]\nProcess signature: 9c068944fb580ee2747d152ede7a17e2df6ea1b6\n[ Checking outputs... ]\n{\"firings_out\":\"/home/haley/Git/leaf/200330/output2/ms4/firings_uncurated.mda\"}\nProcessing ouput - /home/haley/Git/leaf/200330/output2/ms4/firings_uncurated.mda\nfalse\n{\"firings_out\":\"/home/haley/Git/leaf/200330/output2/ms4/firings_uncurated.mda\"}\n[ Checking process cache ... ]\n[ Creating temporary directory ... ]\n[ Creating links to input files... ]\n[ Preparing temporary outputs... ]\nProcessing ouput - /home/haley/Git/leaf/200330/output2/ms4/firings_uncurated.mda\nfalse\n[ Initializing process ... ]\n[ Running ... ] /home/haley/anaconda3/envs/leaf_conda/bin/python3 /home/haley/anaconda3/envs/leaf_conda/etc/mountainlab/packages/ml_ms4alg/ms4alg_spec.py.mp ms4alg.sort --_tempdir=/tmp/mountainlab-tmp/tempdir_9c068944fb_P5MKXv --timeseries=/tmp/mountainlab-tmp/tempdir_9c068944fb_P5MKXv/input_timeseries_9FbV8MvO.mda --geom=/tmp/mountainlab-tmp/tempdir_9c068944fb_P5MKXv/input_geom_FKwCyZYM.csv --firings_out=/tmp/mountainlab-tmp/tempdir_9c068944fb_P5MKXv/output_firings_out.mda --detect_sign=1 --adjacency_radius=-1 --detect_threshold=3\nUsing tempdir=/tmp/mountainlab-tmp/tempdir_9c068944fb_P5MKXv\n\nTraceback (most recent call last):\n  File \"/home/haley/anaconda3/envs/leaf_conda/etc/mountainlab/packages/ml_ms4alg/ms4alg_spec.py.mp\", line 13, in <module>\n    if not PM.run(sys.argv):\n  File \"/home/haley/anaconda3/envs/leaf_conda/lib/python3.6/site-packages/mountainlab_pytools/processormanager/processormanager_impl.py\", line 37, in run\n    return P(**args)\n  File \"/home/haley/anaconda3/envs/leaf_conda/lib/python3.6/site-packages/ml_ms4alg/p_ms4alg.py\", line 68, in sort\n    raise Exception('Incompatible dimensions between geom and timeseries: {} != {}'.format(Geom.shape[1],M))\nException: Incompatible dimensions between geom and timeseries: 2 != 64\n\n[ Removing temporary directory ... ]\nProcess returned with non-zero exit code.\n"
         ],
         "tagName": "pre"
        }
       ],
       "tagName": "details"
      },
      "text/html": [
       "<details><summary>[Click to expand] Error running process ms4alg.sort: Process returned with non-zero error code (255)</summary><pre>[ Getting processor spec... ]\n",
       "[ Checking inputs and substituting prvs ... ]\n",
       "[ Computing process signature ... ]\n",
       "Process signature: 9c068944fb580ee2747d152ede7a17e2df6ea1b6\n",
       "[ Checking outputs... ]\n",
       "{&quot;firings_out&quot;:&quot;/home/haley/Git/leaf/200330/output2/ms4/firings_uncurated.mda&quot;}\n",
       "Processing ouput - /home/haley/Git/leaf/200330/output2/ms4/firings_uncurated.mda\n",
       "false\n",
       "{&quot;firings_out&quot;:&quot;/home/haley/Git/leaf/200330/output2/ms4/firings_uncurated.mda&quot;}\n",
       "[ Checking process cache ... ]\n",
       "[ Creating temporary directory ... ]\n",
       "[ Creating links to input files... ]\n",
       "[ Preparing temporary outputs... ]\n",
       "Processing ouput - /home/haley/Git/leaf/200330/output2/ms4/firings_uncurated.mda\n",
       "false\n",
       "[ Initializing process ... ]\n",
       "[ Running ... ] /home/haley/anaconda3/envs/leaf_conda/bin/python3 /home/haley/anaconda3/envs/leaf_conda/etc/mountainlab/packages/ml_ms4alg/ms4alg_spec.py.mp ms4alg.sort --_tempdir=/tmp/mountainlab-tmp/tempdir_9c068944fb_P5MKXv --timeseries=/tmp/mountainlab-tmp/tempdir_9c068944fb_P5MKXv/input_timeseries_9FbV8MvO.mda --geom=/tmp/mountainlab-tmp/tempdir_9c068944fb_P5MKXv/input_geom_FKwCyZYM.csv --firings_out=/tmp/mountainlab-tmp/tempdir_9c068944fb_P5MKXv/output_firings_out.mda --detect_sign=1 --adjacency_radius=-1 --detect_threshold=3\n",
       "Using tempdir=/tmp/mountainlab-tmp/tempdir_9c068944fb_P5MKXv\n",
       "\n",
       "Traceback (most recent call last):\n",
       "  File &quot;/home/haley/anaconda3/envs/leaf_conda/etc/mountainlab/packages/ml_ms4alg/ms4alg_spec.py.mp&quot;, line 13, in &lt;module&gt;\n",
       "    if not PM.run(sys.argv):\n",
       "  File &quot;/home/haley/anaconda3/envs/leaf_conda/lib/python3.6/site-packages/mountainlab_pytools/processormanager/processormanager_impl.py&quot;, line 37, in run\n",
       "    return P(**args)\n",
       "  File &quot;/home/haley/anaconda3/envs/leaf_conda/lib/python3.6/site-packages/ml_ms4alg/p_ms4alg.py&quot;, line 68, in sort\n",
       "    raise Exception(&#x27;Incompatible dimensions between geom and timeseries: {} != {}&#x27;.format(Geom.shape[1],M))\n",
       "Exception: Incompatible dimensions between geom and timeseries: 2 != 64\n",
       "\n",
       "[ Removing temporary directory ... ]\n",
       "Process returned with non-zero exit code.\n",
       "</pre></details>"
      ],
      "text/plain": [
       "<details><summary>[Click to expand] Error running process ms4alg.sort: Process returned with non-zero error code (255)</summary><pre>[ Getting processor spec... ]\n",
       "[ Checking inputs and substituting prvs ... ]\n",
       "[ Computing process signature ... ]\n",
       "Process signature: 9c068944fb580ee2747d152ede7a17e2df6ea1b6\n",
       "[ Checking outputs... ]\n",
       "{&quot;firings_out&quot;:&quot;/home/haley/Git/leaf/200330/output2/ms4/firings_uncurated.mda&quot;}\n",
       "Processing ouput - /home/haley/Git/leaf/200330/output2/ms4/firings_uncurated.mda\n",
       "false\n",
       "{&quot;firings_out&quot;:&quot;/home/haley/Git/leaf/200330/output2/ms4/firings_uncurated.mda&quot;}\n",
       "[ Checking process cache ... ]\n",
       "[ Creating temporary directory ... ]\n",
       "[ Creating links to input files... ]\n",
       "[ Preparing temporary outputs... ]\n",
       "Processing ouput - /home/haley/Git/leaf/200330/output2/ms4/firings_uncurated.mda\n",
       "false\n",
       "[ Initializing process ... ]\n",
       "[ Running ... ] /home/haley/anaconda3/envs/leaf_conda/bin/python3 /home/haley/anaconda3/envs/leaf_conda/etc/mountainlab/packages/ml_ms4alg/ms4alg_spec.py.mp ms4alg.sort --_tempdir=/tmp/mountainlab-tmp/tempdir_9c068944fb_P5MKXv --timeseries=/tmp/mountainlab-tmp/tempdir_9c068944fb_P5MKXv/input_timeseries_9FbV8MvO.mda --geom=/tmp/mountainlab-tmp/tempdir_9c068944fb_P5MKXv/input_geom_FKwCyZYM.csv --firings_out=/tmp/mountainlab-tmp/tempdir_9c068944fb_P5MKXv/output_firings_out.mda --detect_sign=1 --adjacency_radius=-1 --detect_threshold=3\n",
       "Using tempdir=/tmp/mountainlab-tmp/tempdir_9c068944fb_P5MKXv\n",
       "\n",
       "Traceback (most recent call last):\n",
       "  File &quot;/home/haley/anaconda3/envs/leaf_conda/etc/mountainlab/packages/ml_ms4alg/ms4alg_spec.py.mp&quot;, line 13, in &lt;module&gt;\n",
       "    if not PM.run(sys.argv):\n",
       "  File &quot;/home/haley/anaconda3/envs/leaf_conda/lib/python3.6/site-packages/mountainlab_pytools/processormanager/processormanager_impl.py&quot;, line 37, in run\n",
       "    return P(**args)\n",
       "  File &quot;/home/haley/anaconda3/envs/leaf_conda/lib/python3.6/site-packages/ml_ms4alg/p_ms4alg.py&quot;, line 68, in sort\n",
       "    raise Exception(&#x27;Incompatible dimensions between geom and timeseries: {} != {}&#x27;.format(Geom.shape[1],M))\n",
       "Exception: Incompatible dimensions between geom and timeseries: 2 != 64\n",
       "\n",
       "[ Removing temporary directory ... ]\n",
       "Process returned with non-zero exit code.\n",
       "</pre></details>"
      ]
     },
     "metadata": {},
     "output_type": "display_data"
    },
    {
     "ename": "Exception",
     "evalue": "[Click to expand] Error running process ms4alg.sort: Process returned with non-zero error code (255)",
     "output_type": "error",
     "traceback": [
      "\u001b[0;31m---------------------------------------------------------------------------\u001b[0m",
      "\u001b[0;31mFileNotFoundError\u001b[0m                         Traceback (most recent call last)",
      "\u001b[0;32m<ipython-input-16-aa9065cabbe3>\u001b[0m in \u001b[0;36m<module>\u001b[0;34m\u001b[0m\n\u001b[1;32m      4\u001b[0m     \u001b[0mms4_sort_dataset\u001b[0m\u001b[0;34m(\u001b[0m\u001b[0mdataset_dir\u001b[0m\u001b[0;34m=\u001b[0m\u001b[0mdsdir\u001b[0m\u001b[0;34m,\u001b[0m\u001b[0moutput_dir\u001b[0m\u001b[0;34m=\u001b[0m\u001b[0moutput_dir\u001b[0m\u001b[0;34m,\u001b[0m\u001b[0madjacency_radius\u001b[0m\u001b[0;34m=\u001b[0m\u001b[0;34m-\u001b[0m\u001b[0;36m1\u001b[0m\u001b[0;34m,\u001b[0m\u001b[0mdetect_threshold\u001b[0m\u001b[0;34m=\u001b[0m\u001b[0;36m3\u001b[0m\u001b[0;34m)\u001b[0m\u001b[0;34m\u001b[0m\u001b[0;34m\u001b[0m\u001b[0m\n\u001b[0;32m----> 5\u001b[0;31m     \u001b[0mA\u001b[0m\u001b[0;34m=\u001b[0m\u001b[0mvalidate_sorting_results\u001b[0m\u001b[0;34m(\u001b[0m\u001b[0mdataset_dir\u001b[0m\u001b[0;34m=\u001b[0m\u001b[0mdsdir\u001b[0m\u001b[0;34m,\u001b[0m\u001b[0msorting_output_dir\u001b[0m\u001b[0;34m=\u001b[0m\u001b[0moutput_dir\u001b[0m\u001b[0;34m,\u001b[0m\u001b[0moutput_dir\u001b[0m\u001b[0;34m=\u001b[0m\u001b[0moutput_dir\u001b[0m\u001b[0;34m)\u001b[0m\u001b[0;34m\u001b[0m\u001b[0;34m\u001b[0m\u001b[0m\n\u001b[0m\u001b[1;32m      6\u001b[0m     \u001b[0mamplitudes_true\u001b[0m\u001b[0;34m=\u001b[0m\u001b[0mA\u001b[0m\u001b[0;34m[\u001b[0m\u001b[0;34m'amplitudes_true'\u001b[0m\u001b[0;34m]\u001b[0m\u001b[0;34m\u001b[0m\u001b[0;34m\u001b[0m\u001b[0m\n",
      "\u001b[0;32m~/Git/leaf/200330/sorterfiles/validate_sorting_results.py\u001b[0m in \u001b[0;36mvalidate_sorting_results\u001b[0;34m(dataset_dir, sorting_output_dir, output_dir)\u001b[0m\n\u001b[1;32m     12\u001b[0m         \u001b[0mfirings_true\u001b[0m\u001b[0;34m=\u001b[0m\u001b[0mdataset_dir\u001b[0m\u001b[0;34m+\u001b[0m\u001b[0;34m'/firings_true.mda'\u001b[0m\u001b[0;34m,\u001b[0m\u001b[0;34m\u001b[0m\u001b[0;34m\u001b[0m\u001b[0m\n\u001b[0;32m---> 13\u001b[0;31m         \u001b[0mjson_out\u001b[0m\u001b[0;34m=\u001b[0m\u001b[0moutput_dir\u001b[0m\u001b[0;34m+\u001b[0m\u001b[0;34m'/compare_ground_truth.json'\u001b[0m\u001b[0;34m,\u001b[0m\u001b[0;34m\u001b[0m\u001b[0;34m\u001b[0m\u001b[0m\n\u001b[0m\u001b[1;32m     14\u001b[0m     )\n",
      "\u001b[0;32m~/Git/leaf/200330/sorterfiles/validate_sorting_results.py\u001b[0m in \u001b[0;36mcompare_ground_truth\u001b[0;34m(firings, firings_true, json_out, opts)\u001b[0m\n\u001b[1;32m     98\u001b[0m \u001b[0;32mdef\u001b[0m \u001b[0mcompare_ground_truth\u001b[0m\u001b[0;34m(\u001b[0m\u001b[0;34m*\u001b[0m\u001b[0;34m,\u001b[0m\u001b[0mfirings\u001b[0m\u001b[0;34m,\u001b[0m\u001b[0mfirings_true\u001b[0m\u001b[0;34m,\u001b[0m\u001b[0mjson_out\u001b[0m\u001b[0;34m,\u001b[0m\u001b[0mopts\u001b[0m\u001b[0;34m=\u001b[0m\u001b[0;34m{\u001b[0m\u001b[0;34m}\u001b[0m\u001b[0;34m)\u001b[0m\u001b[0;34m:\u001b[0m\u001b[0;34m\u001b[0m\u001b[0;34m\u001b[0m\u001b[0m\n\u001b[0;32m---> 99\u001b[0;31m     \u001b[0mFt\u001b[0m\u001b[0;34m=\u001b[0m\u001b[0mmdaio\u001b[0m\u001b[0;34m.\u001b[0m\u001b[0mreadmda\u001b[0m\u001b[0;34m(\u001b[0m\u001b[0mmlp\u001b[0m\u001b[0;34m.\u001b[0m\u001b[0mrealizeFile\u001b[0m\u001b[0;34m(\u001b[0m\u001b[0mfirings_true\u001b[0m\u001b[0;34m)\u001b[0m\u001b[0;34m)\u001b[0m\u001b[0;34m\u001b[0m\u001b[0;34m\u001b[0m\u001b[0m\n\u001b[0m\u001b[1;32m    100\u001b[0m     \u001b[0mF\u001b[0m\u001b[0;34m=\u001b[0m\u001b[0mmdaio\u001b[0m\u001b[0;34m.\u001b[0m\u001b[0mreadmda\u001b[0m\u001b[0;34m(\u001b[0m\u001b[0mmlp\u001b[0m\u001b[0;34m.\u001b[0m\u001b[0mrealizeFile\u001b[0m\u001b[0;34m(\u001b[0m\u001b[0mfirings\u001b[0m\u001b[0;34m)\u001b[0m\u001b[0;34m)\u001b[0m\u001b[0;34m\u001b[0m\u001b[0;34m\u001b[0m\u001b[0m\n",
      "\u001b[0;32m~/anaconda3/envs/leaf_conda/lib/python3.6/site-packages/mountainlab_pytools/mdaio/mdaio_impl.py\u001b[0m in \u001b[0;36mreadmda\u001b[0;34m(path)\u001b[0m\n\u001b[1;32m    275\u001b[0m         \u001b[0;32mreturn\u001b[0m \u001b[0mreadnpy\u001b[0m\u001b[0;34m(\u001b[0m\u001b[0mpath\u001b[0m\u001b[0;34m)\u001b[0m\u001b[0;34m;\u001b[0m\u001b[0;34m\u001b[0m\u001b[0;34m\u001b[0m\u001b[0m\n\u001b[0;32m--> 276\u001b[0;31m     \u001b[0mH\u001b[0m\u001b[0;34m=\u001b[0m\u001b[0m_read_header\u001b[0m\u001b[0;34m(\u001b[0m\u001b[0mpath\u001b[0m\u001b[0;34m)\u001b[0m\u001b[0;34m\u001b[0m\u001b[0;34m\u001b[0m\u001b[0m\n\u001b[0m\u001b[1;32m    277\u001b[0m     \u001b[0;32mif\u001b[0m \u001b[0;34m(\u001b[0m\u001b[0mH\u001b[0m \u001b[0;32mis\u001b[0m \u001b[0;32mNone\u001b[0m\u001b[0;34m)\u001b[0m\u001b[0;34m:\u001b[0m\u001b[0;34m\u001b[0m\u001b[0;34m\u001b[0m\u001b[0m\n",
      "\u001b[0;32m~/anaconda3/envs/leaf_conda/lib/python3.6/site-packages/mountainlab_pytools/mdaio/mdaio_impl.py\u001b[0m in \u001b[0;36m_read_header\u001b[0;34m(path)\u001b[0m\n\u001b[1;32m    150\u001b[0m \u001b[0;34m\u001b[0m\u001b[0m\n\u001b[0;32m--> 151\u001b[0;31m     \u001b[0mf\u001b[0m\u001b[0;34m=\u001b[0m\u001b[0mopen\u001b[0m\u001b[0;34m(\u001b[0m\u001b[0mpath\u001b[0m\u001b[0;34m,\u001b[0m\u001b[0;34m\"rb\"\u001b[0m\u001b[0;34m)\u001b[0m\u001b[0;34m\u001b[0m\u001b[0;34m\u001b[0m\u001b[0m\n\u001b[0m\u001b[1;32m    152\u001b[0m     \u001b[0;32mtry\u001b[0m\u001b[0;34m:\u001b[0m\u001b[0;34m\u001b[0m\u001b[0;34m\u001b[0m\u001b[0m\n",
      "\u001b[0;31mFileNotFoundError\u001b[0m: [Errno 2] No such file or directory: '/home/haley/Git/leaf/200330/dataset/firings_true.mda'",
      "\nDuring handling of the above exception, another exception occurred:\n",
      "\u001b[0;31mException\u001b[0m                                 Traceback (most recent call last)",
      "\u001b[0;32m<ipython-input-16-aa9065cabbe3>\u001b[0m in \u001b[0;36m<module>\u001b[0;34m\u001b[0m\n\u001b[1;32m      5\u001b[0m     \u001b[0mA\u001b[0m\u001b[0;34m=\u001b[0m\u001b[0mvalidate_sorting_results\u001b[0m\u001b[0;34m(\u001b[0m\u001b[0mdataset_dir\u001b[0m\u001b[0;34m=\u001b[0m\u001b[0mdsdir\u001b[0m\u001b[0;34m,\u001b[0m\u001b[0msorting_output_dir\u001b[0m\u001b[0;34m=\u001b[0m\u001b[0moutput_dir\u001b[0m\u001b[0;34m,\u001b[0m\u001b[0moutput_dir\u001b[0m\u001b[0;34m=\u001b[0m\u001b[0moutput_dir\u001b[0m\u001b[0;34m)\u001b[0m\u001b[0;34m\u001b[0m\u001b[0;34m\u001b[0m\u001b[0m\n\u001b[1;32m      6\u001b[0m     \u001b[0mamplitudes_true\u001b[0m\u001b[0;34m=\u001b[0m\u001b[0mA\u001b[0m\u001b[0;34m[\u001b[0m\u001b[0;34m'amplitudes_true'\u001b[0m\u001b[0;34m]\u001b[0m\u001b[0;34m\u001b[0m\u001b[0;34m\u001b[0m\u001b[0m\n\u001b[0;32m----> 7\u001b[0;31m     \u001b[0maccuracies\u001b[0m\u001b[0;34m=\u001b[0m\u001b[0mA\u001b[0m\u001b[0;34m[\u001b[0m\u001b[0;34m'accuracies'\u001b[0m\u001b[0;34m]\u001b[0m\u001b[0;34m\u001b[0m\u001b[0;34m\u001b[0m\u001b[0m\n\u001b[0m",
      "\u001b[0;32m~/anaconda3/envs/leaf_conda/lib/python3.6/site-packages/mountainlab_pytools/mlproc/mlproc_impl.py\u001b[0m in \u001b[0;36m__exit__\u001b[0;34m(self, type, value, traceback)\u001b[0m\n\u001b[1;32m     33\u001b[0m         \u001b[0mGlobal\u001b[0m\u001b[0;34m[\u001b[0m\u001b[0;34m'current_client'\u001b[0m\u001b[0;34m]\u001b[0m\u001b[0;34m=\u001b[0m\u001b[0mself\u001b[0m\u001b[0;34m.\u001b[0m\u001b[0m_client\u001b[0m\u001b[0;34m\u001b[0m\u001b[0;34m\u001b[0m\u001b[0m\n\u001b[1;32m     34\u001b[0m     \u001b[0;32mdef\u001b[0m \u001b[0m__exit__\u001b[0m\u001b[0;34m(\u001b[0m\u001b[0mself\u001b[0m\u001b[0;34m,\u001b[0m \u001b[0mtype\u001b[0m\u001b[0;34m,\u001b[0m \u001b[0mvalue\u001b[0m\u001b[0;34m,\u001b[0m \u001b[0mtraceback\u001b[0m\u001b[0;34m)\u001b[0m\u001b[0;34m:\u001b[0m\u001b[0;34m\u001b[0m\u001b[0;34m\u001b[0m\u001b[0m\n\u001b[0;32m---> 35\u001b[0;31m         \u001b[0mself\u001b[0m\u001b[0;34m.\u001b[0m\u001b[0m_client\u001b[0m\u001b[0;34m.\u001b[0m\u001b[0mrun\u001b[0m\u001b[0;34m(\u001b[0m\u001b[0;34m)\u001b[0m\u001b[0;34m\u001b[0m\u001b[0;34m\u001b[0m\u001b[0m\n\u001b[0m\u001b[1;32m     36\u001b[0m         \u001b[0mGlobal\u001b[0m\u001b[0;34m[\u001b[0m\u001b[0;34m'current_client'\u001b[0m\u001b[0;34m]\u001b[0m\u001b[0;34m=\u001b[0m\u001b[0;32mNone\u001b[0m\u001b[0;34m\u001b[0m\u001b[0;34m\u001b[0m\u001b[0m\n\u001b[1;32m     37\u001b[0m \u001b[0;34m\u001b[0m\u001b[0m\n",
      "\u001b[0;32m~/anaconda3/envs/leaf_conda/lib/python3.6/site-packages/mountainlab_pytools/mlproc/mlclient.py\u001b[0m in \u001b[0;36mrun\u001b[0;34m(self)\u001b[0m\n\u001b[1;32m    194\u001b[0m \u001b[0;34m\u001b[0m\u001b[0m\n\u001b[1;32m    195\u001b[0m         \u001b[0;32mwhile\u001b[0m \u001b[0;32mTrue\u001b[0m\u001b[0;34m:\u001b[0m\u001b[0;34m\u001b[0m\u001b[0;34m\u001b[0m\u001b[0m\n\u001b[0;32m--> 196\u001b[0;31m             \u001b[0mret\u001b[0m\u001b[0;34m=\u001b[0m\u001b[0mself\u001b[0m\u001b[0;34m.\u001b[0m\u001b[0mnext_iteration\u001b[0m\u001b[0;34m(\u001b[0m\u001b[0;34m)\u001b[0m\u001b[0;34m\u001b[0m\u001b[0;34m\u001b[0m\u001b[0m\n\u001b[0m\u001b[1;32m    197\u001b[0m             \u001b[0;32mif\u001b[0m \u001b[0;32mnot\u001b[0m \u001b[0mret\u001b[0m\u001b[0;34m:\u001b[0m\u001b[0;34m\u001b[0m\u001b[0;34m\u001b[0m\u001b[0m\n\u001b[1;32m    198\u001b[0m                 \u001b[0;32mbreak\u001b[0m\u001b[0;34m\u001b[0m\u001b[0;34m\u001b[0m\u001b[0m\n",
      "\u001b[0;32m~/anaconda3/envs/leaf_conda/lib/python3.6/site-packages/mountainlab_pytools/mlproc/mlclient.py\u001b[0m in \u001b[0;36mnext_iteration\u001b[0;34m(self)\u001b[0m\n\u001b[1;32m    162\u001b[0m         \u001b[0;32mexcept\u001b[0m \u001b[0mException\u001b[0m \u001b[0;32mas\u001b[0m \u001b[0me\u001b[0m\u001b[0;34m:\u001b[0m\u001b[0;34m\u001b[0m\u001b[0;34m\u001b[0m\u001b[0m\n\u001b[1;32m    163\u001b[0m             \u001b[0mself\u001b[0m\u001b[0;34m.\u001b[0m\u001b[0m_stop_everything\u001b[0m\u001b[0;34m(\u001b[0m\u001b[0;34m)\u001b[0m\u001b[0;34m\u001b[0m\u001b[0;34m\u001b[0m\u001b[0m\n\u001b[0;32m--> 164\u001b[0;31m             \u001b[0;32mraise\u001b[0m \u001b[0me\u001b[0m\u001b[0;34m\u001b[0m\u001b[0;34m\u001b[0m\u001b[0m\n\u001b[0m\u001b[1;32m    165\u001b[0m \u001b[0;34m\u001b[0m\u001b[0m\n\u001b[1;32m    166\u001b[0m     \u001b[0;32mdef\u001b[0m \u001b[0m_stop_everything\u001b[0m\u001b[0;34m(\u001b[0m\u001b[0mself\u001b[0m\u001b[0;34m)\u001b[0m\u001b[0;34m:\u001b[0m\u001b[0;34m\u001b[0m\u001b[0;34m\u001b[0m\u001b[0m\n",
      "\u001b[0;32m~/anaconda3/envs/leaf_conda/lib/python3.6/site-packages/mountainlab_pytools/mlproc/mlclient.py\u001b[0m in \u001b[0;36mnext_iteration\u001b[0;34m(self)\u001b[0m\n\u001b[1;32m    135\u001b[0m                     \u001b[0mstr\u001b[0m\u001b[0;34m=\u001b[0m\u001b[0;34m'[Click to expand] Error running process {}: {}'\u001b[0m\u001b[0;34m.\u001b[0m\u001b[0mformat\u001b[0m\u001b[0;34m(\u001b[0m\u001b[0mjob\u001b[0m\u001b[0;34m[\u001b[0m\u001b[0;34m'processor_name'\u001b[0m\u001b[0;34m]\u001b[0m\u001b[0;34m,\u001b[0m\u001b[0mjob\u001b[0m\u001b[0;34m[\u001b[0m\u001b[0;34m'error'\u001b[0m\u001b[0;34m]\u001b[0m\u001b[0;34m)\u001b[0m\u001b[0;34m\u001b[0m\u001b[0;34m\u001b[0m\u001b[0m\n\u001b[1;32m    136\u001b[0m                     \u001b[0mdisplay\u001b[0m\u001b[0;34m(\u001b[0m\u001b[0mvdom\u001b[0m\u001b[0;34m.\u001b[0m\u001b[0mdetails\u001b[0m\u001b[0;34m(\u001b[0m\u001b[0mvdom\u001b[0m\u001b[0;34m.\u001b[0m\u001b[0msummary\u001b[0m\u001b[0;34m(\u001b[0m\u001b[0mstr\u001b[0m\u001b[0;34m)\u001b[0m\u001b[0;34m,\u001b[0m\u001b[0mvdom\u001b[0m\u001b[0;34m.\u001b[0m\u001b[0mpre\u001b[0m\u001b[0;34m(\u001b[0m\u001b[0mjob\u001b[0m\u001b[0;34m[\u001b[0m\u001b[0;34m'console_output'\u001b[0m\u001b[0;34m]\u001b[0m\u001b[0;34m)\u001b[0m\u001b[0;34m)\u001b[0m\u001b[0;34m)\u001b[0m\u001b[0;34m\u001b[0m\u001b[0;34m\u001b[0m\u001b[0m\n\u001b[0;32m--> 137\u001b[0;31m                     \u001b[0;32mraise\u001b[0m \u001b[0mException\u001b[0m\u001b[0;34m(\u001b[0m\u001b[0mstr\u001b[0m\u001b[0;34m)\u001b[0m\u001b[0;34m\u001b[0m\u001b[0;34m\u001b[0m\u001b[0m\n\u001b[0m\u001b[1;32m    138\u001b[0m                 \u001b[0;32melif\u001b[0m \u001b[0mjob\u001b[0m\u001b[0;34m[\u001b[0m\u001b[0;34m'status'\u001b[0m\u001b[0;34m]\u001b[0m \u001b[0;34m==\u001b[0m \u001b[0;34m'finished'\u001b[0m\u001b[0;34m:\u001b[0m\u001b[0;34m\u001b[0m\u001b[0;34m\u001b[0m\u001b[0m\n\u001b[1;32m    139\u001b[0m                     \u001b[0mnum_finished\u001b[0m\u001b[0;34m=\u001b[0m\u001b[0mnum_finished\u001b[0m\u001b[0;34m+\u001b[0m\u001b[0;36m1\u001b[0m\u001b[0;34m\u001b[0m\u001b[0;34m\u001b[0m\u001b[0m\n",
      "\u001b[0;31mException\u001b[0m: [Click to expand] Error running process ms4alg.sort: Process returned with non-zero error code (255)"
     ]
    }
   ],
   "source": [
    "output_dir=output_base_dir+'/ms4'\n",
    "with Pipeline:\n",
    "    #ironclust_sort_dataset(dataset_dir=dsdir,output_dir=output_dir,adjacency_radius=-1,detect_threshold=3)\n",
    "    ms4_sort_dataset(dataset_dir=dsdir,output_dir=output_dir,adjacency_radius=-1,detect_threshold=3)\n",
    "    A=validate_sorting_results(dataset_dir=dsdir,sorting_output_dir=output_dir,output_dir=output_dir)\n",
    "    amplitudes_true=A['amplitudes_true']\n",
    "    accuracies=A['accuracies']"
   ]
  },
  {
   "cell_type": "markdown",
   "metadata": {},
   "source": [
    "### Plot the comparison with ground truth"
   ]
  },
  {
   "cell_type": "code",
   "execution_count": null,
   "metadata": {},
   "outputs": [],
   "source": [
    "# Plot the comparison with ground truth\n",
    "plt.plot(amplitudes_true,accuracies,'.')\n",
    "plt.xlabel('Amplitude')\n",
    "plt.ylabel('Accuracy');\n",
    "plt.title('Accuracy vs. amplitude for {}'.format('simulated data'))"
   ]
  },
  {
   "cell_type": "code",
   "execution_count": null,
   "metadata": {},
   "outputs": [],
   "source": []
  }
 ],
 "metadata": {
  "kernelspec": {
   "display_name": "lead_conda",
   "language": "python",
   "name": "leaf_conda"
  },
  "language_info": {
   "codemirror_mode": {
    "name": "ipython",
    "version": 3
   },
   "file_extension": ".py",
   "mimetype": "text/x-python",
   "name": "python",
   "nbconvert_exporter": "python",
   "pygments_lexer": "ipython3",
   "version": "3.6.10"
  }
 },
 "nbformat": 4,
 "nbformat_minor": 4
}
