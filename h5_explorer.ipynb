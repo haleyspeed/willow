{
 "cells": [
  {
   "cell_type": "markdown",
   "metadata": {},
   "source": [
    "# Ultra-High-Density Recording Explorer "
   ]
  },
  {
   "cell_type": "markdown",
   "metadata": {},
   "source": [
    "- Reads in an h5 file from Lead Labs Willow System (or anything that saves data as h5 files)\n",
    "- Filters the data between 400 and 9500 Hz (in vivo recordings)\n",
    "- Determines baseline noise levels in both the filtered and unfiltered traces\n",
    "- Displays raw traces from each channel as they are arranged on the probe shank"
   ]
  },
  {
   "cell_type": "markdown",
   "metadata": {},
   "source": [
    "## User Input"
   ]
  },
  {
   "cell_type": "code",
   "execution_count": null,
   "metadata": {},
   "outputs": [],
   "source": [
    "datafile = 'experiment_C20200330-174152_concat.h5' # transferred experiment\n",
    "fs = 30000 # sample rate\n",
    "window = [0, 30] # time window of analysis (for filtering, 4 mins max for most computers)\n",
    "chan_num = [0,64] # channels on the shank\n",
    "columns = [[0,1,2,3,4,5,6,7,8,9,10,11,12,13,14,15,16,17,18,19,20,21], \n",
    "            [22,23,24,25,26,27,28,29,30,31,32,33,34,35,36,37,38,39,40,41], \n",
    "            [42,43,44,45,46,47,48,49,50,51,52,53,54,55,56,57,58,59,60,61,62,63]]         \n",
    "lowcut = 400 # Hz for bandpass filter\n",
    "highcut = 5000 # Hz for bandpass filter\n",
    "order = 6 # For bandpass filter "
   ]
  },
  {
   "cell_type": "markdown",
   "metadata": {},
   "source": [
    "- Assumes this python notebook, the data file, and the imp. file are in same dir\n",
    "- `datafile` = raw h5 file you transferred from the datanode SSD drive\n",
    "- `fs` = sample rate\n",
    "- `window` = [start_time, end_time] of analysis window (in seconds, 4 min max usually)\n",
    "- `chan_num` = [start_channel, end_channel] where numbering starts at 0 and the last item in the list is not included\n",
    "     - For channels 0-64 on shank1, `chan_num` = [0,64]. shank2 = [64, 128]\n",
    "- `columns` = the probe map in array form (or list of lists). \n",
    "   - Each set (denoted by interior brackets) is a list of channels in that column\n",
    "   - Left is closer to the tip of the shank (pointy end)\n",
    "   - Ingrids probes have 3 rows, with 21,20, and 21 channels, respectively\n",
    "   - The grid plotting routines take this into account\n",
    "   - This variable may change from probe to probe\n",
    "   - Make sure you check the `columns` variable against the probe map every time\n",
    "- `lowcut` = lower limit of the bandpass filter\n",
    "- `highcut` = upper limit of the bandpass filter\n",
    "- `order` = order of the filtering function. >3 is in the flat part of the curve. 5 and 6 are in the middle."
   ]
  },
  {
   "cell_type": "markdown",
   "metadata": {},
   "source": [
    "## Import Dependencies"
   ]
  },
  {
   "cell_type": "code",
   "execution_count": null,
   "metadata": {},
   "outputs": [],
   "source": [
    "import h5py\n",
    "import numpy as np\n",
    "import os\n",
    "import matplotlib.pyplot as plt\n",
    "from IPython.display import HTML\n",
    "from scipy.signal import butter, sosfiltfilt, sosfreqz\n",
    "import time\n",
    "import pandas as pd"
   ]
  },
  {
   "cell_type": "markdown",
   "metadata": {},
   "source": [
    "## Read in h5 file"
   ]
  },
  {
   "cell_type": "code",
   "execution_count": null,
   "metadata": {},
   "outputs": [],
   "source": [
    "columns = np.array(columns) # makes a numpy array from the list of lists for speed\n",
    "channels = list(np.arange(chan_num[0], chan_num[1])) # list of channels for the current shank\n",
    "f_data = h5py.File(datafile, 'r') # Read in the h5 file\n",
    "xs = f_data.get('sample_index') # time in datapoints (x)\n",
    "ys = f_data.get('channel_data')  # actual data in raw format, must be scaled to microvolts (y)\n",
    "xs = xs[window[0]*fs:window[1]*fs] # keep only the time window we specified in user input\n",
    "ys = ys[window[0]*fs:window[1]*fs, channels] * 0.195  # keep only the time window and channel range specified\n",
    "display (HTML(\"<hr><h4>Data consists of \" + str(ys.shape[1]) + \n",
    "              \" columns of data (channels, x) and \" + str(ys.shape[0]) + \n",
    "              \" rows of data (measurements, y).\" + \"The recording is \" +\n",
    "              str(round(ys.shape[0]/(fs * 60),3)) + \" mins long. <hr>\"))\n",
    "f_data.close()"
   ]
  },
  {
   "cell_type": "markdown",
   "metadata": {},
   "source": [
    "## Bandpass Filter (butterworth) of Experimental Data\n",
    "- channels are reset to [0,64] regardless of shank number since we excluded the other channels"
   ]
  },
  {
   "cell_type": "code",
   "execution_count": null,
   "metadata": {},
   "outputs": [],
   "source": [
    "channels = list(np.arange(0,64)) # Channels reset to 0-63 after import. Ch 64 is now Ch0 in memory\n",
    "filtered = pd.DataFrame()"
   ]
  },
  {
   "cell_type": "code",
   "execution_count": null,
   "metadata": {},
   "outputs": [],
   "source": [
    "def butter_bandpass(lowcut, highcut, fs, order=order):\n",
    "        nyq = 0.5 * fs\n",
    "        low = lowcut / nyq\n",
    "        high = highcut / nyq\n",
    "        sos = butter(order, [low, high], analog=False, btype='band', output='sos')\n",
    "        return sos\n",
    "\n",
    "def butter_bandpass_filter(data, lowcut, highcut, fs, order=5):\n",
    "        sos = butter_bandpass(lowcut, highcut, fs, order=order)\n",
    "        y = sosfiltfilt(sos, data)\n",
    "        return y\n",
    "\n",
    "def get_filtered (df):\n",
    "    lowcut = 400\n",
    "    highcut = 5000\n",
    "    display (HTML(\"<h4>Analyzing channel: \"))\n",
    "    for chan in channels:\n",
    "        print(chan, end = ' ')\n",
    "        order = 6\n",
    "        x = np.arange(len(ys[:,chan]))\n",
    "        sos = butter_bandpass(lowcut, highcut, fs, order=order)\n",
    "        w, h = sosfreqz(sos, worN=2000)\n",
    "        filtered[chan] = butter_bandpass_filter(ys[:,chan], lowcut, highcut, fs, order=order)\n",
    "    return df\n",
    "\n",
    "filtered = get_filtered(filtered)"
   ]
  },
  {
   "cell_type": "markdown",
   "metadata": {},
   "source": [
    "## Analyze noise of unfiltered experimental data\n",
    "- default is analysis of the first second in the recording"
   ]
  },
  {
   "cell_type": "code",
   "execution_count": null,
   "metadata": {},
   "outputs": [],
   "source": [
    "mean_start = 0   # Beginning of time window for noise analysis\n",
    "mean_end = 30000 # End of time window for noise analysis"
   ]
  },
  {
   "cell_type": "code",
   "execution_count": null,
   "metadata": {},
   "outputs": [],
   "source": [
    "means = []\n",
    "medians = []\n",
    "sds = []\n",
    "rngs = []\n",
    "\n",
    "for chan in channels:\n",
    "    means.append(np.mean(ys[mean_start:mean_end, chan]))\n",
    "    medians.append(np.median(ys[mean_start:mean_end, chan]))\n",
    "    sds.append(np.std(ys[mean_start:mean_end, chan]))\n",
    "    rngs.append(np.ptp(ys[mean_start:mean_end, chan]))\n",
    "\n",
    "unfiltered_stats = pd.DataFrame ({'means': means, 'medians': medians, 'sds': sds, 'rngs': rngs})\n",
    "display(HTML(unfiltered_stats.head().to_html()))"
   ]
  },
  {
   "cell_type": "markdown",
   "metadata": {},
   "source": [
    "## Analyze noise of filtered experiment"
   ]
  },
  {
   "cell_type": "code",
   "execution_count": null,
   "metadata": {},
   "outputs": [],
   "source": [
    "means = []\n",
    "medians = []\n",
    "sds = []\n",
    "rngs = []\n",
    "\n",
    "for chan in channels:\n",
    "    means.append(np.mean(filtered.iloc[mean_start:mean_end, chan]))\n",
    "    medians.append(np.median(filtered.iloc[mean_start:mean_end, chan]))\n",
    "    sds.append(np.std(filtered.iloc[mean_start:mean_end, chan]))\n",
    "    rngs.append(np.ptp(filtered.iloc[mean_start:mean_end, chan]))\n",
    "\n",
    "filtered_stats = pd.DataFrame ({'means': means, 'medians': medians, 'sds': sds, 'rngs': rngs})\n",
    "display(HTML(filtered_stats.head().to_html()))"
   ]
  },
  {
   "cell_type": "markdown",
   "metadata": {},
   "source": [
    "## Save the filtered and noise stats to a new file\n",
    "- This will make it easier to fetch the data later on without having to reload the whole thing\n",
    "- This takes about 5-15 minutes per file\n",
    "- Use this file in `h5_spikedetector.ipynb` and `h5_spikeviewer.ipynb`"
   ]
  },
  {
   "cell_type": "code",
   "execution_count": null,
   "metadata": {},
   "outputs": [],
   "source": [
    "hf = h5py.File(datafile.replace('.h5', '_filtered_' + str(chan_num[1]) + '.h5'), 'w')\n",
    "hf.create_dataset('sample_index', data = list(range(0,len(filtered.iloc[:,0]))))\n",
    "hf.create_dataset('channel_data', data = filtered)\n",
    "hf.create_dataset('filtered_stats', data = filtered_stats)\n",
    "hf.create_dataset('unfiltered_stats', data = unfiltered_stats)\n",
    "hf.close()"
   ]
  },
  {
   "cell_type": "markdown",
   "metadata": {},
   "source": [
    "## Plot 2 mins of a single channel\n",
    "- useful for finding regions of activity quickly\n",
    "- `start_time` and `end_time` are in seconds\n",
    "- `channel` = choose a channel between 0-63\n",
    "   - this refers to the channel on the current shank only\n",
    "   - if it's shank 2,3,or 4, the channel range is still 0-63 because we're only looking at one shank at a time"
   ]
  },
  {
   "cell_type": "code",
   "execution_count": null,
   "metadata": {},
   "outputs": [],
   "source": [
    "channel = 0     # 0-63 regardless of shank#\n",
    "start_time = 0  # In seconds\n",
    "end_time = 0.02 # In seconds"
   ]
  },
  {
   "cell_type": "code",
   "execution_count": null,
   "metadata": {},
   "outputs": [],
   "source": [
    "def single_plot(chan, start, end):\n",
    "    start = int(start * fs)\n",
    "    end = int(end * fs)\n",
    "    display(HTML('<hr><h4>Plotting channel: '))\n",
    "    fig, ax = plt.subplots (figsize =(20,4))\n",
    "    ax.plot(xs[start:end]/fs, filtered.iloc[start:end,chan], color = 'dimgray', \n",
    "                            label=str(chan))\n",
    "    handles, labels = ax.get_legend_handles_labels()\n",
    "    ax.legend(handles, labels, loc = 'upper right', fontsize = 8, shadow = False)\n",
    "    ax.set_ylim(filtered_stats.means[chan] - filtered_stats.rngs[chan]*0.75, \n",
    "                              filtered_stats.means[chan] + filtered_stats.rngs[chan]*0.75)\n",
    "    ax.set_ylabel(r'$\\mu$V', fontsize = 18)\n",
    "    ax.set_xlabel('Time (s)', fontsize = 18)\n",
    "    ax.tick_params(labelsize = 16)\n",
    "\n",
    "single_plot(channel, start_time, end_time) "
   ]
  },
  {
   "cell_type": "markdown",
   "metadata": {},
   "source": [
    "## Plot unfiltered experimental data as grid"
   ]
  },
  {
   "cell_type": "code",
   "execution_count": null,
   "metadata": {
    "scrolled": false
   },
   "outputs": [],
   "source": [
    "def grid_plot_unfiltered(columns, start, end):\n",
    "    start = int(start*30000)\n",
    "    end = int(end*30000)\n",
    "    display(HTML('<hr><h4>Plotting channel: '))\n",
    "    fig, ax = plt.subplots (len(columns[0]),int(columns.shape[0]), figsize =(15,40), sharex = True, sharey = True)\n",
    "    j = 0\n",
    "    for j in np.arange (0,columns.shape[0]):\n",
    "        for i,col in enumerate(columns[j]): \n",
    "            if j == 1: # Offset for middle row (grid is 66 panels, but we only have 64 channels. Middle row is shorter) \n",
    "                i = i + 1\n",
    "            print(col, end = ' ')\n",
    "            ax[i][j].plot(xs[start:end]/fs, ys[start:end,col], color = 'dimgray', \n",
    "                            label=str(col)) # Unfiltered Signal\n",
    "            handles, labels = ax[i][j].get_legend_handles_labels()\n",
    "            ax[i][j].legend(handles, labels, loc = 'upper right', fontsize = 8, shadow = False)\n",
    "            y_lims = ax[i][j].get_ylim()\n",
    "            ax[i][j].set_ylim(y_lims[0] - abs(y_lims[0]) * 0.1, y_lims[1] + abs(y_lims[1]) * 0.1)\n",
    "            ax[i][j].set_ylim(unfiltered_stats.means[col] - unfiltered_stats.rngs[col]*0.75, \n",
    "                              unfiltered_stats.means[col] + unfiltered_stats.rngs[col]*0.75)\n",
    "            ax[i][j].tick_params (labelsize = 15)\n",
    "            plt.tight_layout()\n",
    "    fig.text(0.0, 0.5, r'Amplitude ($\\mu$V)', ha='center', rotation='vertical', fontsize = 18)\n",
    "    fig.text(0.5, 0.0, 'Time (s)', va='center',  fontsize = 18)\n",
    "    plt.savefig (datafile.replace('.h5','_unfiltered' + str(chan_num[1]) + '.png'))\n",
    "    display(HTML('<hr>'))\n",
    "\n",
    "grid_plot_unfiltered(columns, start_time, end_time)"
   ]
  },
  {
   "cell_type": "markdown",
   "metadata": {},
   "source": [
    "## Plot filtered experimental data as grid"
   ]
  },
  {
   "cell_type": "code",
   "execution_count": null,
   "metadata": {
    "scrolled": false
   },
   "outputs": [],
   "source": [
    "def grid_plot_filtered(columns, start, end):\n",
    "    start = int(start*30000)\n",
    "    end = int(end*30000)\n",
    "    display(HTML('<hr><h4>Plotting channel: '))\n",
    "    fig, ax = plt.subplots (len(columns[0]),int(columns.shape[0]), figsize =(15,40), sharex = True, sharey = True)\n",
    "    for j in np.arange (0,columns.shape[0]):\n",
    "        for i,col in enumerate(columns[j]): \n",
    "            if j == 1: # Offset for middle row (grid is 66 panels, but we only have 64 channels. Middle row is shorter) \n",
    "                i = i + 1\n",
    "            print(col, end = ' ')\n",
    "            ax[i][j].plot(xs[start:end]/fs, filtered.iloc[start:end,col], color = 'dimgray', \n",
    "                            label=str(col)) # filtered Signal\n",
    "            handles, labels = ax[i][j].get_legend_handles_labels()\n",
    "            ax[i][j].legend(handles, labels, loc = 'upper right', fontsize = 8, shadow = False)\n",
    "            y_lims = ax[i][j].get_ylim()\n",
    "            ax[i][j].set_ylim(y_lims[0] - abs(y_lims[0]) * 0.1, y_lims[1] + abs(y_lims[1]) * 0.1)\n",
    "            ax[i][j].set_ylim(filtered_stats.means[col] - filtered_stats.rngs[col]*0.75, \n",
    "                              filtered_stats.means[col] + filtered_stats.rngs[col]*0.75)\n",
    "            ax[i][j].tick_params (labelsize = 15)\n",
    "            plt.tight_layout()\n",
    "    fig.text(0.0, 0.5, r'Amplitude ($\\mu$V)', ha='center', rotation='vertical', fontsize = 18)\n",
    "    fig.text(0.5, 0.0, 'Time (s)', va='center',  fontsize = 18)\n",
    "    plt.savefig (datafile.replace('.h5','_filtered' + str(chan_num[1]) + '.png'))\n",
    "    display(HTML('<hr>'))\n",
    "\n",
    "grid_plot_filtered(columns, start_time, end_time)"
   ]
  },
  {
   "cell_type": "code",
   "execution_count": null,
   "metadata": {},
   "outputs": [],
   "source": []
  },
  {
   "cell_type": "code",
   "execution_count": null,
   "metadata": {},
   "outputs": [],
   "source": []
  },
  {
   "cell_type": "code",
   "execution_count": null,
   "metadata": {},
   "outputs": [],
   "source": []
  }
 ],
 "metadata": {
  "kernelspec": {
   "display_name": "willow",
   "language": "python",
   "name": "willow"
  },
  "language_info": {
   "codemirror_mode": {
    "name": "ipython",
    "version": 3
   },
   "file_extension": ".py",
   "mimetype": "text/x-python",
   "name": "python",
   "nbconvert_exporter": "python",
   "pygments_lexer": "ipython3",
   "version": "3.8.2"
  }
 },
 "nbformat": 4,
 "nbformat_minor": 4
}
