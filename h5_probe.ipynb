{
 "cells": [
  {
   "cell_type": "markdown",
   "metadata": {},
   "source": [
    "# Ultra-High-Density Recording Probe Analyzer"
   ]
  },
  {
   "cell_type": "markdown",
   "metadata": {},
   "source": [
    "- Analyze probe noise from saline recordings \n",
    "- Visualize impedance measurements and identify \"bad\" channels"
   ]
  },
  {
   "cell_type": "markdown",
   "metadata": {},
   "source": [
    "## User Input"
   ]
  },
  {
   "cell_type": "code",
   "execution_count": null,
   "metadata": {},
   "outputs": [],
   "source": [
    "impfile = 'impedance_20200324-122009.h5' # Impedance File\n",
    "basefile = '20200324-surface.h5' # Transferred saline baseline file\n",
    "fs = 30000 # sample rate\n",
    "columns = [[0,1,2,3,4,5,6,7,8,9,10,11,12,13,14,15,16,17,18,19,20,21], \n",
    "            [22,23,24,25,26,27,28,29,30,31,32,33,34,35,36,37,38,39,40,41], \n",
    "            [42,43,44,45,46,47,48,49,50,51,52,53,54,55,56,57,58,59,60,61,62,63]] \n",
    "lowcut = 400 # Hz for bandpass filter\n",
    "highcut = 5000 # Hz for bandpass filter\n",
    "order = 6 # For bandpass filter "
   ]
  },
  {
   "cell_type": "markdown",
   "metadata": {},
   "source": [
    "- Assumes this python notebook, the data file, and the imp. file are in same dir\n",
    "- `impfile` = the impedence h5 file for the probe in saline\n",
    "- `basefile` = the short recording in saline to get baseline probe noise\n",
    "- `fs` = sample rate\n",
    "- `columns` = the probe map in array form (or list of lists). \n",
    "   - Each set (denoted by interior brackets) is a list of channels in that column\n",
    "   - Left is closer to the tip of the shank (pointy end)\n",
    "   - Ingrids probes have 3 rows, with 21,20, and 21 channels, respectively\n",
    "   - The grid plotting routines take this into account\n",
    "   - This variable may change from probe to probe\n",
    "   - Make sure you check the `columns` variable against the probe map every time\n",
    "- `lowcut` = lower limit of the bandpass filter\n",
    "- `highcut` = upper limit of the bandpass filter\n",
    "- `order` = order of the filtering function. >3 is in the flat part of the curve. 5 and 6 are in the middle."
   ]
  },
  {
   "cell_type": "markdown",
   "metadata": {},
   "source": [
    "## Import Dependencies"
   ]
  },
  {
   "cell_type": "code",
   "execution_count": null,
   "metadata": {},
   "outputs": [],
   "source": [
    "import h5py\n",
    "import numpy as np\n",
    "import os\n",
    "import matplotlib.pyplot as plt\n",
    "from IPython.display import HTML\n",
    "from scipy.signal import butter, sosfiltfilt, sosfreqz\n",
    "import time\n",
    "import pandas as pd"
   ]
  },
  {
   "cell_type": "markdown",
   "metadata": {},
   "source": [
    "## Read in impedence data"
   ]
  },
  {
   "cell_type": "code",
   "execution_count": null,
   "metadata": {},
   "outputs": [],
   "source": [
    "f_imp = h5py.File(impfile, 'r') # Read in the impedance file\n",
    "x_lim = [0,256]    # Change x-axis manually [start, end]\n",
    "y_lim = [0,7500]   # Change y-axis manually [low, high]"
   ]
  },
  {
   "cell_type": "code",
   "execution_count": null,
   "metadata": {},
   "outputs": [],
   "source": [
    "def get_impedance(f_imp):\n",
    "    fig, ax = plt.subplots(figsize = (12,4))\n",
    "    imp = f_imp['impedanceMeasurements'][:]\n",
    "    x = np.where (imp > 0)[0]\n",
    "    y = [imp[i] / 1000 for i in x] # kOhms\n",
    "    ax.plot(x, y, ls = 'none', markersize = 4, marker = 'o', color = 'gray', mec = 'black')  \n",
    "    ax.set_ylabel ('Impedence (k' + r'$\\Omega$' + ')', fontsize = 18, labelpad = 15)\n",
    "    ax.set_xlabel ('Channel Number', fontsize = 18, labelpad = 15)\n",
    "    plt.tick_params(axis = 'both', which = 'major', pad = 15, labelsize = 16)\n",
    "    med = np.median(y)\n",
    "    rng = np.ptp(y)\n",
    "    high = np.where(y > np.median(y) + rng * 0.75)[0]\n",
    "    low = np.where (y < np.median(y)- rng * 0.75)[0]\n",
    "    adj_y = [y1 for y1 in y if y1 not in low]\n",
    "    adj_y = [y1 for y1 in y if y1 not in high]\n",
    "    adj_high = np.where(y > np.median(adj_y) + rng * 0.75)[0]\n",
    "    adj_low = np.where (y < np.median(adj_y) - rng * 0.75)[0]\n",
    "    ax.set_xlim(x_lim[0],x_lim[1])\n",
    "    ax.set_ylim(y_lim[0],y_lim[1])\n",
    "    report = {'avg': np.median(adj_y),\n",
    "          'std': rng,\n",
    "          'high': adj_high,\n",
    "          'low' : adj_low}    \n",
    "    \n",
    "    display(HTML(\"<hr><h4>Median impedence = \" + str(round(report['avg'],3)) + \n",
    "                 \"<br> Range =  \" + str(round(report['std'],3)) \n",
    "                 + '<br>' \n",
    "                 + \"Channels with High Resistance (greater than 75% of median) =  \"  \n",
    "                 + str(report['high']).replace('[','').replace(']', '') + \"<br>\" +\n",
    "                 \"Channels with Low Resistance (less than 75% of median) = <br>\" +\n",
    "                str(report['low']).replace('[','').replace(']', '') +  \"<hr color = 'gray'><br>\"))\n",
    "    \n",
    "    ax.axhline(report['avg'], color = 'dimgray')\n",
    "    ax.axhline(med + rng * 0.75, ls = \":\", color = 'dimgray')\n",
    "    ax.axhline(med - rng * 0.75, ls = \":\", color = 'dimgray')\n",
    "\n",
    "    plt.tight_layout()\n",
    "    plt.savefig(impfile.replace('.h5', '_impedance.png'))\n",
    "    \n",
    "    return report, x, y\n",
    "    \n",
    "imp_report, channels, imp = get_impedance (f_imp)\n"
   ]
  },
  {
   "cell_type": "markdown",
   "metadata": {},
   "source": [
    "## Read in the baseline probe data (saline recordings)\n",
    "- for a 5 minute file it takes 10-30 mins\n",
    "- keep checking for \"dead kernel\" errors\n",
    " - no dead kernel, it's still working"
   ]
  },
  {
   "cell_type": "code",
   "execution_count": null,
   "metadata": {},
   "outputs": [],
   "source": [
    "columns = np.array(columns) # convert to numpy array for speed\n",
    "f_base = h5py.File(basefile, 'r') # Read in the probe noise file\n",
    "x_subs = f_base.get('sample_index') # channel # (x)\n",
    "subs = f_base.get('channel_data') # Get baseline y for all channels\n",
    "subs = subs[:, channels] * 0.195 # Remove unconnected channels and scale the data to microvolts\n",
    "display (HTML(\"<hr><h4>Data consists of \" + str(subs.shape[1]) + \n",
    "              \" columns of data (channels, x) and \" + str(subs.shape[0]) \n",
    "              + \" rows of data (measurements, y). Recording is \" + \n",
    "              str(round(len(x_subs)/(fs * 60),2)) + \" mins long. <hr>\"))"
   ]
  },
  {
   "cell_type": "markdown",
   "metadata": {},
   "source": [
    "## Get noise levels for unfiltered  probe data\n",
    "- This will allow us to set thresholds for detecting neuronal activity vs background noise"
   ]
  },
  {
   "cell_type": "code",
   "execution_count": null,
   "metadata": {},
   "outputs": [],
   "source": [
    "window = [0, 30000] # Default window is the first second in the recording"
   ]
  },
  {
   "cell_type": "code",
   "execution_count": null,
   "metadata": {},
   "outputs": [],
   "source": [
    "means = []\n",
    "medians = []\n",
    "sds = []\n",
    "rngs = []\n",
    "\n",
    "for chan in channels:\n",
    "    means.append(np.mean(subs[window[0]:window[1], chan]))\n",
    "    medians.append(np.median(subs[window[0]:window[1], chan]))\n",
    "    sds.append(np.std(subs[window[0]:window[1], chan]))\n",
    "    rngs.append(np.ptp(subs[window[0]:window[1], chan]))\n",
    "\n",
    "unfiltered_stats = pd.DataFrame ({'means': means, 'medians': medians, 'sds': sds, 'rngs': rngs})\n",
    "display(HTML(unfiltered_stats.head().to_html()))"
   ]
  },
  {
   "cell_type": "markdown",
   "metadata": {},
   "source": [
    "## Bandpass Filter (butterworth) of baseline probe data\n",
    "- Have to analyze a subset of channels at a time or you get dead kernels \n",
    "- If recordings are very long, you can break it down into 64 channels at a time by changing subs[:, chan] to subs[0:64, chan] for the first 64 channels.uyoSimilarly, it could be subs[64:128, chan] or whatever length you need."
   ]
  },
  {
   "cell_type": "code",
   "execution_count": null,
   "metadata": {},
   "outputs": [],
   "source": [
    "def butter_bandpass(lowcut, highcut, fs, order=order):\n",
    "        nyq = 0.5 * fs\n",
    "        low = lowcut / nyq\n",
    "        high = highcut / nyq\n",
    "        sos = butter(order, [low, high], analog=False, btype='band', output='sos')\n",
    "        return sos\n",
    "\n",
    "def butter_bandpass_filter(data, lowcut, highcut, fs, order=order):\n",
    "        sos = butter_bandpass(lowcut, highcut, fs, order=order)\n",
    "        y = sosfiltfilt(sos, data)\n",
    "        return y\n",
    "\n",
    "def get_filtered (channels, df):\n",
    "    display (HTML(\"<h4>Analyzing channel: \"))\n",
    "    for chan in channels:\n",
    "        print(chan, end = ' ')\n",
    "        order = 6\n",
    "        x = np.arange(len(subs[:,chan]))\n",
    "        sos = butter_bandpass(lowcut, highcut, fs, order=order)\n",
    "        w, h = sosfreqz(sos, worN=2000)\n",
    "        df[chan] = butter_bandpass_filter(subs[:,chan], lowcut, highcut, fs, order=order)\n",
    "    return df\n",
    "\n",
    "filtered = pd.DataFrame()\n",
    "filtered = get_filtered(channels, filtered)   \n"
   ]
  },
  {
   "cell_type": "markdown",
   "metadata": {},
   "source": [
    "## Get noise level of filtered probe data"
   ]
  },
  {
   "cell_type": "code",
   "execution_count": null,
   "metadata": {},
   "outputs": [],
   "source": [
    "means = []\n",
    "medians = []\n",
    "sds = []\n",
    "rngs = []\n",
    "\n",
    "for chan in channels:\n",
    "    means.append(np.mean(filtered[chan]))\n",
    "    medians.append(np.median(filtered[chan]))\n",
    "    sds.append(np.std(filtered[chan]))\n",
    "    rngs.append(np.ptp(filtered[chan]))\n",
    "\n",
    "filtered_stats = pd.DataFrame ({'means': means, 'medians': medians, 'sds': sds, 'rngs': rngs})\n",
    "display(HTML(filtered_stats.head().to_html()))\n"
   ]
  },
  {
   "cell_type": "markdown",
   "metadata": {},
   "source": [
    "## Save the filtered probe data with stats"
   ]
  },
  {
   "cell_type": "code",
   "execution_count": null,
   "metadata": {},
   "outputs": [],
   "source": [
    "hf_probe = h5py.File(basefile.replace('.h5', '_probe.h5'), 'w')\n",
    "hf_probe.create_dataset('sample_index', data = filtered.iloc[:,0])\n",
    "hf_probe.create_dataset('unfiltered_y', data = subs[:,channels])\n",
    "hf_probe.create_dataset('channel_data', data = filtered.loc[:,channels])\n",
    "hf_probe.create_dataset('unfiltered_stats', data = unfiltered_stats)\n",
    "hf_probe.create_dataset('filtered_stats', data = filtered_stats)\n",
    "hf_probe.close()"
   ]
  },
  {
   "cell_type": "markdown",
   "metadata": {},
   "source": [
    "## Plot unfiltered probe data as grid"
   ]
  },
  {
   "cell_type": "code",
   "execution_count": null,
   "metadata": {
    "scrolled": false
   },
   "outputs": [],
   "source": [
    "def grid_plot_unfiltered(columns, xs, ys):\n",
    "    start = window[0]\n",
    "    end = window[1]\n",
    "    display(HTML('<hr><h4>Plotting channel: '))\n",
    "    fig, ax = plt.subplots (len(columns[0]),int(columns.shape[0]), figsize =(15,40), sharex = True, sharey = True)\n",
    "    j = 0\n",
    "    for j in np.arange (0,columns.shape[0]):\n",
    "        for i,col in enumerate(columns[j]): \n",
    "            if j == 1: # Offset for middle row (grid is 66 panels, but we only have 64 channels. Middle row is shorter) \n",
    "                i = i + 1\n",
    "            print(col, end = ' ')\n",
    "            ax[i][j].plot(xs[start:end]/fs, subs[start:end,col], color = 'dimgray', \n",
    "                            label=str(col)) # Unfiltered Signal\n",
    "            handles, labels = ax[i][j].get_legend_handles_labels()\n",
    "            ax[i][j].legend(handles, labels, loc = 'upper right', fontsize = 8, shadow = False)\n",
    "            y_lims = ax[i][j].get_ylim()\n",
    "            ax[i][j].set_ylim(y_lims[0] - abs(y_lims[0]) * 0.1, y_lims[1] + abs(y_lims[1]) * 0.1)\n",
    "            ax[i][j].set_ylim(unfiltered_stats.means[col] - unfiltered_stats.rngs[col]*0.75, \n",
    "                              unfiltered_stats.means[col] + unfiltered_stats.rngs[col]*0.75)\n",
    "            ax[i][j].tick_params (labelsize = 15)\n",
    "            plt.tight_layout()\n",
    "    fig.text(0.0, 0.5, r'Amplitude ($\\mu$V)', ha='center', rotation='vertical', fontsize = 18)\n",
    "    fig.text(0.5, 0.0, 'Time (s)', va='center',  fontsize = 18)\n",
    "    plt.savefig (basefile.replace('.h5','_unfiltered.png'))\n",
    "    display(HTML('<hr>'))\n",
    "\n",
    "\n",
    "grid_plot_unfiltered(columns, x_subs, subs)"
   ]
  },
  {
   "cell_type": "markdown",
   "metadata": {},
   "source": [
    "## Plot filtered probe data as grid"
   ]
  },
  {
   "cell_type": "code",
   "execution_count": null,
   "metadata": {
    "scrolled": false
   },
   "outputs": [],
   "source": [
    "def grid_plot_filtered(columns, xs, ys):\n",
    "    start = window[0]\n",
    "    end = window[1]\n",
    "    display(HTML('<hr><h4>Plotting channel: '))\n",
    "    fig, ax = plt.subplots (len(columns[0]),int(columns.shape[0]), figsize =(15,40), sharex = True, sharey = True)\n",
    "    j = 0\n",
    "    for j in np.arange (0,columns.shape[0]):\n",
    "        for i,col in enumerate(columns[j]): \n",
    "            if j == 1: # Offset for middle row (grid is 66 panels, but we only have 64 channels. Middle row is shorter) \n",
    "                i = i + 1\n",
    "            print(col, end = ' ')\n",
    "            ax[i][j].plot(xs[start:end]/fs, filtered.iloc[start:end,col], color = 'dimgray', \n",
    "                            label=str(col)) # Unfiltered Signal\n",
    "            handles, labels = ax[i][j].get_legend_handles_labels()\n",
    "            ax[i][j].legend(handles, labels, loc = 'upper right', fontsize = 8, shadow = False)\n",
    "            y_lims = ax[i][j].get_ylim()\n",
    "            ax[i][j].set_ylim(y_lims[0] - abs(y_lims[0]) * 0.1, y_lims[1] + abs(y_lims[1]) * 0.1)\n",
    "            ax[i][j].set_ylim(filtered_stats.means[col] - filtered_stats.rngs[col]*0.75, \n",
    "                              filtered_stats.means[col] + filtered_stats.rngs[col]*0.75)\n",
    "            ax[i][j].tick_params (labelsize = 15)\n",
    "            plt.tight_layout()\n",
    "    fig.text(0.0, 0.5, r'Amplitude ($\\mu$V)', ha='center', rotation='vertical', fontsize = 18)\n",
    "    fig.text(0.5, 0.0, 'Time (s)', va='center',  fontsize = 18)\n",
    "    plt.savefig (basefile.replace('.h5','_filtered.png'))\n",
    "    display(HTML('<hr>'))\n",
    "\n",
    "\n",
    "grid_plot_filtered(columns, x_subs, filtered)"
   ]
  },
  {
   "cell_type": "code",
   "execution_count": null,
   "metadata": {},
   "outputs": [],
   "source": []
  },
  {
   "cell_type": "code",
   "execution_count": null,
   "metadata": {},
   "outputs": [],
   "source": []
  }
 ],
 "metadata": {
  "kernelspec": {
   "display_name": "willow",
   "language": "python",
   "name": "willow"
  },
  "language_info": {
   "codemirror_mode": {
    "name": "ipython",
    "version": 3
   },
   "file_extension": ".py",
   "mimetype": "text/x-python",
   "name": "python",
   "nbconvert_exporter": "python",
   "pygments_lexer": "ipython3",
   "version": "3.8.2"
  }
 },
 "nbformat": 4,
 "nbformat_minor": 4
}
