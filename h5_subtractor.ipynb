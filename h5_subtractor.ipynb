{
 "cells": [
  {
   "cell_type": "markdown",
   "metadata": {},
   "source": [
    "# Ultra-High-Density Recording Baseline Subtractor"
   ]
  },
  {
   "cell_type": "markdown",
   "metadata": {},
   "source": [
    "- Subtracts filtered probe trace from a an experiment trace\n",
    "- Not practical for a whole recording but might help with representative traces for presentations"
   ]
  },
  {
   "cell_type": "markdown",
   "metadata": {},
   "source": [
    "## User Input"
   ]
  },
  {
   "cell_type": "code",
   "execution_count": 1,
   "metadata": {},
   "outputs": [],
   "source": [
    "# Assumes this python notebook, the data file, and the imp. file are in same dir\n",
    "datafile = 'experiment_C20200330-175336_filtered_64.h5'\n",
    "basefile = 'experiment_C20200403-111923_probe_64.h5' # Saline baseline file\n",
    "fs = 30000\n",
    "start_time = 0\n",
    "col_num = 3 # columns per shank\n",
    "row_num = [22,20,22] # rows per column (# values should == # columns)"
   ]
  },
  {
   "cell_type": "markdown",
   "metadata": {},
   "source": [
    "## Import Dependencies"
   ]
  },
  {
   "cell_type": "code",
   "execution_count": 2,
   "metadata": {},
   "outputs": [],
   "source": [
    "import h5py\n",
    "import numpy as np\n",
    "import os\n",
    "import matplotlib.pyplot as plt\n",
    "from IPython.display import HTML\n",
    "from scipy.signal import butter, sosfiltfilt, sosfreqz\n",
    "import time"
   ]
  },
  {
   "cell_type": "markdown",
   "metadata": {},
   "source": [
    "## Read in the Multichannel Data"
   ]
  },
  {
   "cell_type": "code",
   "execution_count": 3,
   "metadata": {},
   "outputs": [],
   "source": [
    "f_data = h5py.File(datafile, 'r')\n",
    "f_base = h5py.File(basefile, 'r')\n",
    "\n",
    "xs = f_data.get('sample_index') # channel # (x)\n",
    "ys = f_data.get('channel_data') # actual data in microvolts (y)\n",
    "\n",
    "subs_x = f_base.get('sample_index')\n",
    "subs_y = f_base.get('channel_data') # Get baseline y for all channels\n",
    "filtered_stats = f_base.get('filtered_stats') # 0-means, 1-medians, 2-std, 3-ranges\n",
    "\n",
    "window = [start_time * fs, start_time + 1 *fs]\n",
    "channels = list(range(0, ys.shape[1]))\n"
   ]
  },
  {
   "cell_type": "markdown",
   "metadata": {},
   "source": [
    "## Subtract Unfiltered baseline data from signals"
   ]
  },
  {
   "cell_type": "code",
   "execution_count": null,
   "metadata": {},
   "outputs": [
    {
     "name": "stdout",
     "output_type": "stream",
     "text": [
      "0\n",
      "1\n",
      "2\n",
      "3\n"
     ]
    }
   ],
   "source": [
    "import pandas as pd\n",
    "\n",
    "df = pd.DataFrame()\n",
    "for channel in channels:\n",
    "    print(channel)\n",
    "    clean_y = []\n",
    "    for x in list(range (0, subs_y.shape[0])): \n",
    "        temp = float(ys[x,channel]) - float(subs_y[x,channel]) # cast as float to avoid ushort_scalar error\n",
    "        clean_y.append(temp)\n",
    "    df[channel] = clean_y\n",
    "    \n",
    "df['x'] = [i for i in range(0, int(len(df[0])))]"
   ]
  },
  {
   "cell_type": "markdown",
   "metadata": {},
   "source": [
    "## Save Subtracted Data"
   ]
  },
  {
   "cell_type": "code",
   "execution_count": null,
   "metadata": {},
   "outputs": [],
   "source": [
    "hf_sub = h5py.File(datafile.replace('.h5', '_subtracted_' + str(ys.shape[1]) + '.h5'), 'w')\n",
    "hf_sub.create_dataset('sample_index', data = df['x'])\n",
    "hf_sub.create_dataset('channel_data', data=df.loc[:, df.columns != 'x'])\n",
    "hf_sub.close()"
   ]
  },
  {
   "cell_type": "markdown",
   "metadata": {},
   "source": [
    "## Plot subtracted data as grid"
   ]
  },
  {
   "cell_type": "code",
   "execution_count": null,
   "metadata": {
    "scrolled": false
   },
   "outputs": [],
   "source": [
    "def grid_plot_subtracted(chans, start, end):\n",
    "    display(HTML('<hr><h4>Plotting channel: '))\n",
    "    fig, ax = plt.subplots (21,3, figsize =(15,40), sharex = True, sharey = True)\n",
    "    j = 0\n",
    "    ch_num = 0\n",
    "    for j in range (0,col_num):\n",
    "        i = 0\n",
    "        for i in range (0,row_num[j]): \n",
    "            print(ch_num, end = ' ')\n",
    "            ax[i][j].plot(xs[start:end]/fs, df.iloc[start:end,ch_num], color = 'dimgray', \n",
    "                            label=str(ch_num)) # Filtered Signal\n",
    "            handles, labels = ax[i][j].get_legend_handles_labels()\n",
    "            ax[i][j].legend(handles, labels, loc = 'upper right', fontsize = 8, shadow = False)\n",
    "            ax[i][j].set_ylim(filtered_stats[ch_num, 0] - filtered_stats[ch_num, 3]*0.75, \n",
    "                              filtered_stats[ch_num, 0] + filtered_stats[ch_num, 3]*0.75)\n",
    "            plt.tight_layout()\n",
    "            ch_num = ch_num + 1\n",
    "    fig.text(0.0, 0.5, r'Amplitude ($\\mu$V)', ha='center', rotation='vertical', fontsize = 18)\n",
    "    fig.text(0.5, 0.0, 'Time (ms)', va='center',  fontsize = 18)\n",
    "    plt.savefig (datafile.replace('.h5','_subtracted_' + str(ys.shape[1]) + '.png'))\n",
    "    display(HTML('<hr>'))\n",
    "\n",
    "shank_num = 1\n",
    "win = [0,30000] \n",
    "chans = list(np.arange(0,shank_num*(col_num + sum(row_num))))\n",
    "grid_plot_subtracted(chans, win[0], win[1])\n",
    "f_data.close()\n",
    "f_base.close()"
   ]
  },
  {
   "cell_type": "code",
   "execution_count": null,
   "metadata": {},
   "outputs": [],
   "source": []
  },
  {
   "cell_type": "code",
   "execution_count": null,
   "metadata": {},
   "outputs": [],
   "source": []
  }
 ],
 "metadata": {
  "kernelspec": {
   "display_name": "Python 3",
   "language": "python",
   "name": "python3"
  },
  "language_info": {
   "codemirror_mode": {
    "name": "ipython",
    "version": 3
   },
   "file_extension": ".py",
   "mimetype": "text/x-python",
   "name": "python",
   "nbconvert_exporter": "python",
   "pygments_lexer": "ipython3",
   "version": "3.6.10"
  }
 },
 "nbformat": 4,
 "nbformat_minor": 4
}
