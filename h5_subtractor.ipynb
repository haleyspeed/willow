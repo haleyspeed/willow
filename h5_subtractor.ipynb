{
 "cells": [
  {
   "cell_type": "markdown",
   "metadata": {},
   "source": [
    "# Ultra-High-Density Recording Baseline Subtractor"
   ]
  },
  {
   "cell_type": "markdown",
   "metadata": {},
   "source": [
    "- Reads in an h5 file from Lead Labs Willow System (or anything that saves data as h5 files)\n",
    "- Interprets the probe map and assigns impedance data to individual sites on the probe\n",
    "- Displays selected channels (every 4th channel) at a time for exploring the traces individually\n",
    "- Filters the data between 400 and 9500 Hz (in vivo recordings)"
   ]
  },
  {
   "cell_type": "markdown",
   "metadata": {},
   "source": [
    "## User Input"
   ]
  },
  {
   "cell_type": "code",
   "execution_count": 1,
   "metadata": {},
   "outputs": [],
   "source": [
    "# Assumes this python notebook, the data file, and the imp. file are in same dir\n",
    "datafile = '20200324-third.h5'\n",
    "impfile = 'impedance_20200403-105919.h5' # Impedance File\n",
    "basefile = 'experiment_C20200403-105044.h5' # Saline baseline file\n",
    "fs = 30000"
   ]
  },
  {
   "cell_type": "markdown",
   "metadata": {},
   "source": [
    "## Import Dependencies"
   ]
  },
  {
   "cell_type": "code",
   "execution_count": 2,
   "metadata": {},
   "outputs": [],
   "source": [
    "import h5py\n",
    "import numpy as np\n",
    "import os\n",
    "import matplotlib.pyplot as plt\n",
    "from IPython.display import HTML\n",
    "from scipy.signal import butter, sosfiltfilt, sosfreqz\n",
    "import time"
   ]
  },
  {
   "cell_type": "markdown",
   "metadata": {},
   "source": [
    "## Read in impedence data"
   ]
  },
  {
   "cell_type": "code",
   "execution_count": 3,
   "metadata": {},
   "outputs": [
    {
     "data": {
      "text/html": [
       "<br><hr><h4>Mean impedence = <font color = 'red'>1832.974</font><br><br> Standard Deviation =  <font color = 'red'>2502.234</font><br><br>Channels with High Resistance (greater than 2 std above the mean) =  <font color = 'red'><br><br></font><br><br>Channels with Low Resistance (less than 2 std below the mean) = <font color = 'red'><br><br></font> <br><hr color = 'gray'><br>"
      ],
      "text/plain": [
       "<IPython.core.display.HTML object>"
      ]
     },
     "metadata": {},
     "output_type": "display_data"
    },
    {
     "data": {
      "image/png": "[encoded data removed]",
      "text/plain": [
       "<Figure size 864x576 with 1 Axes>"
      ]
     },
     "metadata": {
      "needs_background": "light"
     },
     "output_type": "display_data"
    }
   ],
   "source": [
    "f_imp = h5py.File(impfile, 'r')\n",
    "\n",
    "def get_impedence(f_imp):\n",
    "    fig, ax = plt.subplots(figsize = (12,8))\n",
    "    imp = f_imp['impedanceMeasurements'][:]\n",
    "    x = np.where (imp > 0)[0]\n",
    "    y = [imp[i] / 1000 for i in x] # kOhms\n",
    "    ax.plot(x, y, ls = 'none', markersize = 4, marker = 'o', color = 'gray', mec = 'black')  \n",
    "    ax.set_ylabel ('Impedence (k' + r'$\\Omega$' + ')', fontsize = 18, labelpad = 15)\n",
    "    ax.set_xlabel ('Channel Number', fontsize = 18, labelpad = 15)\n",
    "    plt.tick_params(axis = 'both', which = 'major', pad = 15, labelsize = 16)\n",
    "    init_avg = np.mean(y)\n",
    "    init_sd = np.std(y)\n",
    "    high = np.where(y > np.mean(y) + 2 * np.std(y))[0]\n",
    "    low = np.where (y < np.mean(y)- 2 * np.std(y))[0]\n",
    "    adj_y = [y1 for y1 in y if y1 not in low]\n",
    "    adj_y = [y1 for y1 in y if y1 not in high]\n",
    "    adj_high = np.where(y > np.mean(adj_y) + 2 * np.std(adj_y))[0]\n",
    "    adj_low = np.where (y < np.mean(adj_y)- 2 * np.std(adj_y))[0]\n",
    "    ax.set_ylim(-200,500)\n",
    "    report = {'avg': np.mean(adj_y),\n",
    "          'std': np.std(adj_y),\n",
    "          'high': adj_high,\n",
    "          'low' : adj_low}    \n",
    "    \n",
    "    display(HTML(\"<br><hr><h4>Mean impedence = <font color = 'red'>\" + str(round(report['avg'],3)) + \n",
    "                 \"</font><br><br> Standard Deviation =  <font color = 'red'>\" + str(round(report['std'],3)) \n",
    "                 + '</font><br><br>' \n",
    "                 + \"Channels with High Resistance (greater than 2 std above the mean) =  <font color = 'red'><br><br>\"  \n",
    "                 + str(report['high']).replace('[','').replace(']', '') + \"</font><br><br>\" +\n",
    "                 \"Channels with Low Resistance (less than 2 std below the mean) = <font color = 'red'><br><br>\" +\n",
    "                str(report['low']).replace('[','').replace(']', '') + \"</font>\" + \" <br><hr color = 'gray'><br>\"))\n",
    "    \n",
    "    ax.axhline(report['avg'], color = 'dimgray')\n",
    "    ax.axhline(report['avg'] + report['std'], ls = \":\", color = 'dimgray')\n",
    "    ax.axhline(report['avg'] - report['std'], ls = \":\", color = 'dimgray')\n",
    "\n",
    "    plt.tight_layout()\n",
    "    \n",
    "    return report, x, y\n",
    "    \n",
    "imp_report, channels, imp = get_impedence (f_imp)"
   ]
  },
  {
   "cell_type": "markdown",
   "metadata": {},
   "source": [
    "## Read in the Multichannel Data"
   ]
  },
  {
   "cell_type": "code",
   "execution_count": 4,
   "metadata": {},
   "outputs": [
    {
     "data": {
      "text/html": [
       "<br><hr><h4>Data consists of <font color = 'red'>256</font> columns of data (channels, x) and <font color = 'red'>1259203</font> rows of data (measurements, y).<hr><br>"
      ],
      "text/plain": [
       "<IPython.core.display.HTML object>"
      ]
     },
     "metadata": {},
     "output_type": "display_data"
    }
   ],
   "source": [
    "f_data = h5py.File(datafile, 'r')\n",
    "f_base = h5py.File(basefile, 'r')\n",
    "\n",
    "# Pull data from h5 into variables\n",
    "si = f_data.get('sample_index') # channel # (x)\n",
    "ys = f_data.get('channel_data') # actual data in microvolts (y)\n",
    "ys = ys[:, channels] # Remove unconnected channels (based on impedence data)\n",
    "\n",
    "subs = f_base.get('channel_data') # Get baseline y for all channels\n",
    "subs = subs[:, channels] # Remove unconnected channels\n",
    "\n",
    "\n",
    "display (HTML(\"<br><hr><h4>Data consists of <font color = 'red'>\" + str(ys.shape[1]) + \n",
    "              \"</font> columns of data (channels, x) and <font color = 'red'>\" + str(ys.shape[0]) + \"</font> rows of data (measurements, y).<hr><br>\"))"
   ]
  },
  {
   "cell_type": "markdown",
   "metadata": {},
   "source": [
    "## Subtract Unfiltered baseline data from signals"
   ]
  },
  {
   "cell_type": "code",
   "execution_count": null,
   "metadata": {},
   "outputs": [],
   "source": [
    "import pandas as pd\n",
    "\n",
    "df = pd.DataFrame()\n",
    "for channel in channels:\n",
    "    clean_y = []\n",
    "    last = 1\n",
    "    for second in range (last, int(si[-1]/fs)): \n",
    "        for x in range (last-1, second * fs):\n",
    "            temp = float(ys[x, channel]) - float(subs[x,channel]) # cast as float to avoid ushort_scalar error\n",
    "            clean_y.append(temp)\n",
    "        last = last + fs\n",
    "    df[channel] = clean_y\n",
    "    \n",
    "df['x'] = [i for i in range(0, int(len(df[0])))]\n",
    "print(df.shape)"
   ]
  },
  {
   "cell_type": "markdown",
   "metadata": {},
   "source": [
    "## Save Subtracted Data"
   ]
  },
  {
   "cell_type": "code",
   "execution_count": null,
   "metadata": {},
   "outputs": [],
   "source": [
    "hf_sub = h5py.File(datafile.replace('.h5', '_subtracted.h5'), 'w')\n",
    "hf_sub.create_dataset('x', data = df['x'])\n",
    "hf_sub.create_dataset('subtracted', data=df.loc[:, df.columns != 'x'])\n",
    "hf_sub.close()"
   ]
  },
  {
   "cell_type": "code",
   "execution_count": null,
   "metadata": {},
   "outputs": [],
   "source": []
  }
 ],
 "metadata": {
  "kernelspec": {
   "display_name": "Python 3",
   "language": "python",
   "name": "python3"
  },
  "language_info": {
   "codemirror_mode": {
    "name": "ipython",
    "version": 3
   },
   "file_extension": ".py",
   "mimetype": "text/x-python",
   "name": "python",
   "nbconvert_exporter": "python",
   "pygments_lexer": "ipython3",
   "version": "3.7.5"
  }
 },
 "nbformat": 4,
 "nbformat_minor": 4
}
